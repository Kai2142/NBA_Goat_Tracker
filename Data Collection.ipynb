{
 "cells": [
  {
   "cell_type": "markdown",
   "id": "8ebc9b4639950ad9",
   "metadata": {},
   "source": [
    "Import Libraries\n"
   ]
  },
  {
   "cell_type": "code",
   "id": "initial_id",
   "metadata": {
    "collapsed": true,
    "jupyter": {
     "outputs_hidden": true
    },
    "ExecuteTime": {
     "end_time": "2024-11-24T11:23:44.420070Z",
     "start_time": "2024-11-24T11:23:44.417081Z"
    }
   },
   "source": [
    "import pandas as pd\n",
    "from bs4 import BeautifulSoup\n",
    "import requests \n",
    "import time\n",
    "import re"
   ],
   "outputs": [],
   "execution_count": 132
  },
  {
   "cell_type": "code",
   "id": "8e85898401aa1d60",
   "metadata": {
    "ExecuteTime": {
     "end_time": "2024-11-24T11:23:44.603706Z",
     "start_time": "2024-11-24T11:23:44.600707Z"
    }
   },
   "source": [
    "headers = {\"User Agent\": \"Mozilla/5.0\"}"
   ],
   "outputs": [],
   "execution_count": 133
  },
  {
   "cell_type": "code",
   "id": "e89b15db8fd4ec3",
   "metadata": {
    "ExecuteTime": {
     "end_time": "2024-11-24T11:23:44.625839Z",
     "start_time": "2024-11-24T11:23:44.618275Z"
    }
   },
   "source": [
    "# Read player_extensions csv\n",
    "url_extensions_df = pd.read_csv(\"data/player_extensions.csv\")\n",
    "# Convert Extension Column to list\n",
    "url_extensions = url_extensions_df[\"Player Extension\"].tolist()"
   ],
   "outputs": [],
   "execution_count": 134
  },
  {
   "cell_type": "code",
   "id": "a267e473a8dcc670",
   "metadata": {
    "ExecuteTime": {
     "end_time": "2024-11-24T11:23:44.642290Z",
     "start_time": "2024-11-24T11:23:44.638948Z"
    }
   },
   "source": [
    "# Create List with player links\n",
    "player_links = []\n",
    "def concat_urls(url_extension):\n",
    "    for ext in url_extension:\n",
    "        base_url = \"https://www.basketball-reference.com/\"\n",
    "        player_url = ext\n",
    "        full_url = base_url + player_url\n",
    "        player_links.append(full_url)\n",
    "concat_urls(url_extensions)"
   ],
   "outputs": [],
   "execution_count": 135
  },
  {
   "cell_type": "code",
   "id": "b58dec5355667e25",
   "metadata": {
    "ExecuteTime": {
     "end_time": "2024-11-24T11:23:44.672303Z",
     "start_time": "2024-11-24T11:23:44.668490Z"
    }
   },
   "source": [
    "print(player_links[0])"
   ],
   "outputs": [
    {
     "name": "stdout",
     "output_type": "stream",
     "text": [
      "https://www.basketball-reference.com//players/a/abdulka01.html\n"
     ]
    }
   ],
   "execution_count": 136
  },
  {
   "cell_type": "markdown",
   "id": "c90fa24507259865",
   "metadata": {},
   "source": [
    "Scrape PPG"
   ]
  },
  {
   "cell_type": "code",
   "id": "6cf650733f5e963f",
   "metadata": {
    "ExecuteTime": {
     "end_time": "2024-11-24T11:23:44.704679Z",
     "start_time": "2024-11-24T11:23:44.700548Z"
    }
   },
   "source": [
    "def scrape_ppg(full_url):\n",
    "    url = full_url\n",
    "    try:\n",
    "        time.sleep(7)  \n",
    "        r = requests.get(url, headers=headers)\n",
    "        r.raise_for_status()  # Raise an exception for bad HTTP status codes\n",
    "        soup = BeautifulSoup(r.content, \"html.parser\")\n",
    "\n",
    "        p1_div = soup.find(\"div\", {\"class\": \"p1\"})\n",
    "        if p1_div:\n",
    "            ppg_value_element = p1_div.find_all(\"p\")[3] \n",
    "            ppg_value = ppg_value_element.get_text()\n",
    "            return ppg_value.strip()\n",
    "        else:\n",
    "            return \"PPG information not found\"\n",
    "    except requests.RequestException as e:\n",
    "        return f\"An error occurred: {e}\"\n",
    "\n",
    "# Test on First index of player_links\n",
    "\n",
    "# print(scrape_ppg(player_links[0]))"
   ],
   "outputs": [],
   "execution_count": 137
  },
  {
   "cell_type": "markdown",
   "id": "98dda9673db62c8b",
   "metadata": {},
   "source": [
    "Scrape Rebounds"
   ]
  },
  {
   "cell_type": "code",
   "id": "67ae731be983c607",
   "metadata": {
    "ExecuteTime": {
     "end_time": "2024-11-24T11:23:44.740173Z",
     "start_time": "2024-11-24T11:23:44.736312Z"
    }
   },
   "source": [
    "def scrape_trb(full_url):\n",
    "    url = full_url\n",
    "    try:\n",
    "        time.sleep(7)  \n",
    "        r = requests.get(url, headers=headers)\n",
    "        r.raise_for_status()  \n",
    "        soup = BeautifulSoup(r.content, \"html.parser\")\n",
    "\n",
    "        p1_div = soup.find(\"div\", {\"class\": \"p1\"})\n",
    "        if p1_div:\n",
    "            ppg_value_element = p1_div.find_all(\"p\")[5] \n",
    "            ppg_value = ppg_value_element.get_text()\n",
    "            return ppg_value.strip()\n",
    "        else:\n",
    "            return \"PPG information not found\"\n",
    "    except requests.RequestException as e:\n",
    "        return f\"An error occurred: {e}\"\n",
    "\n",
    "# print(scrape_trb(player_links[0]))"
   ],
   "outputs": [],
   "execution_count": 138
  },
  {
   "cell_type": "markdown",
   "id": "bc8ad89863e78486",
   "metadata": {},
   "source": [
    "Scrape Assists"
   ]
  },
  {
   "cell_type": "code",
   "id": "2fa8db9e596a8da5",
   "metadata": {
    "ExecuteTime": {
     "end_time": "2024-11-24T11:23:44.760420Z",
     "start_time": "2024-11-24T11:23:44.756206Z"
    }
   },
   "source": [
    "def scrape_ast(full_url):\n",
    "    url = full_url\n",
    "    try:\n",
    "        time.sleep(7)  \n",
    "        r = requests.get(url, headers=headers)\n",
    "        r.raise_for_status()  \n",
    "        soup = BeautifulSoup(r.content, \"html.parser\")\n",
    "\n",
    "        p1_div = soup.find(\"div\", {\"class\": \"p1\"})\n",
    "        if p1_div:\n",
    "            ppg_value_element = p1_div.find_all(\"p\")[7] \n",
    "            ppg_value = ppg_value_element.get_text()\n",
    "            return ppg_value.strip()\n",
    "        else:\n",
    "            return \"PPG information not found\"\n",
    "    except requests.RequestException as e:\n",
    "        return f\"An error occurred: {e}\"\n",
    "\n",
    "# print(scrape_ast(player_links[0]))"
   ],
   "outputs": [],
   "execution_count": 139
  },
  {
   "cell_type": "markdown",
   "id": "34e1f5b8ab36feb6",
   "metadata": {},
   "source": "Scrape MVP Count\n"
  },
  {
   "cell_type": "code",
   "id": "b1c646ab28945572",
   "metadata": {
    "ExecuteTime": {
     "end_time": "2024-11-24T11:23:52.576548Z",
     "start_time": "2024-11-24T11:23:44.774091Z"
    }
   },
   "source": [
    "def scrape_mvp_count(full_url):\n",
    "    url = full_url\n",
    "    try:\n",
    "        time.sleep(7)  \n",
    "        r = requests.get(url, headers=headers)\n",
    "        r.raise_for_status()  \n",
    "        soup = BeautifulSoup(r.content, \"html.parser\")\n",
    "\n",
    "        # Find the <ul> element with id \"bling\"\n",
    "        bling_ul = soup.find('ul', {'id': 'bling'})\n",
    "        \n",
    "        if bling_ul:\n",
    "            mvp_count = None\n",
    "            for li in bling_ul.find_all('li'):\n",
    "                a_tag = li.find('a')\n",
    "                if a_tag and \"MVP\" in a_tag.text:\n",
    "                    if \"MVP\" in a_tag.text and \"Finals\" not in a_tag.text:\n",
    "                        mvp_count = re.search(r'\\d+x', a_tag.text)\n",
    "                        if mvp_count:\n",
    "                            return mvp_count.group().replace('x', '')\n",
    "            \n",
    "            if mvp_count is None:\n",
    "                return 0\n",
    "        else:\n",
    "            return \"Bling section not found\"\n",
    "    except requests.RequestException as e:\n",
    "        return f\"An error occurred: {e}\"\n",
    "\n",
    "print(scrape_mvp_count(player_links[2]))"
   ],
   "outputs": [
    {
     "name": "stdout",
     "output_type": "stream",
     "text": [
      "2\n"
     ]
    }
   ],
   "execution_count": 140
  },
  {
   "cell_type": "markdown",
   "id": "ce62296297dec1ca",
   "metadata": {},
   "source": [
    "Scrape Finals MVP"
   ]
  },
  {
   "metadata": {
    "ExecuteTime": {
     "end_time": "2024-11-24T11:24:00.338351Z",
     "start_time": "2024-11-24T11:23:52.583449Z"
    }
   },
   "cell_type": "code",
   "source": [
    "def scrape_fmvp_count(full_url):\n",
    "    url = full_url\n",
    "    try:\n",
    "        time.sleep(7)  \n",
    "        r = requests.get(url, headers=headers)\n",
    "        r.raise_for_status()  \n",
    "        soup = BeautifulSoup(r.content, \"html.parser\")\n",
    "\n",
    "        # Find the <ul> element with id \"bling\"\n",
    "        bling_ul = soup.find('ul', {'id': 'bling'})\n",
    "\n",
    "        if bling_ul:\n",
    "            fmvp_count = 0\n",
    "            fmvp_found = False\n",
    "            for li in bling_ul.find_all('li'):\n",
    "                a_tag = li.find('a')\n",
    "                if a_tag and \"Finals MVP\" in a_tag.text:\n",
    "                    fmvp_found = True\n",
    "                    fmvp_text = a_tag.text.strip()\n",
    "                    if 'Finals MVP' in fmvp_text:\n",
    "                        if 'x' in fmvp_text:\n",
    "                            count_match = re.search(r'\\d+', fmvp_text)\n",
    "                            if count_match:\n",
    "                                fmvp_count += int(count_match.group())\n",
    "                        else:\n",
    "                            fmvp_count += 1\n",
    "            if fmvp_found:\n",
    "                return fmvp_count\n",
    "            else:\n",
    "                return 0  # Return 0 if no Finals MVP found\n",
    "        else:\n",
    "            return \"Bling section not found\"\n",
    "    except requests.RequestException as e:\n",
    "        return f\"An error occurred: {e}\"\n",
    "\n",
    "print(player_links[63])\n",
    "# print(player_links[1])\n",
    "# print(player_links[2])\n",
    "print(scrape_fmvp_count(player_links[63]))\n",
    "# print(scrape_fmvp_count(player_links[1]))\n",
    "# print(scrape_fmvp_count(player_links[2]))\n",
    "# print(player_links[17])\n",
    "# print(scrape_fmvp_count(player_links[17])) # KD\n",
    "# print(player_links[28])\n",
    "# print(scrape_fmvp_count(player_links[28])) #MJ"
   ],
   "id": "716061a14f99127b",
   "outputs": [
    {
     "name": "stdout",
     "output_type": "stream",
     "text": [
      "https://www.basketball-reference.com//players/w/westje01.html\n",
      "1\n"
     ]
    }
   ],
   "execution_count": 142
  },
  {
   "cell_type": "markdown",
   "id": "7fec47cf528dc177",
   "metadata": {},
   "source": [
    "Scrape All NBA Team"
   ]
  },
  {
   "cell_type": "code",
   "id": "885fd758580d97ce",
   "metadata": {
    "ExecuteTime": {
     "end_time": "2024-11-24T11:24:00.343884Z",
     "start_time": "2024-11-24T11:24:00.339400Z"
    }
   },
   "source": [
    "def scrape_anbat_count(full_url):\n",
    "    url = full_url\n",
    "    try:\n",
    "        time.sleep(7)\n",
    "        r = requests.get(url, headers=headers)\n",
    "        r.raise_for_status()\n",
    "        soup = BeautifulSoup(r.content, \"html.parser\")\n",
    "\n",
    "        # Find the <ul> element with id \"bling\"\n",
    "        bling_ul = soup.find('ul', {'id': 'bling'})\n",
    "\n",
    "        if bling_ul:\n",
    "            anbat_count = None\n",
    "            for li in bling_ul.find_all('li'):\n",
    "                a_tag = li.find('a')\n",
    "                if a_tag and \"All-NBA\" in a_tag.text:\n",
    "                    anbat_count = re.search(r'\\d+x', a_tag.text)\n",
    "                    if anbat_count:\n",
    "                        return anbat_count.group().replace('x', '')\n",
    "\n",
    "            if anbat_count is None:\n",
    "                return 0\n",
    "        else:\n",
    "            return \"Bling section not found\"\n",
    "    except requests.RequestException as e:\n",
    "        return f\"An error occurred: {e}\"\n",
    "\n",
    "# Call the function with the player link\n",
    "# print(scrape_anbat_count(player_links[0]))"
   ],
   "outputs": [],
   "execution_count": 143
  },
  {
   "cell_type": "markdown",
   "id": "e0d6d5e7ccb5b580",
   "metadata": {},
   "source": [
    "Scrape NBA Championships Count"
   ]
  },
  {
   "metadata": {
    "ExecuteTime": {
     "end_time": "2024-11-24T11:24:00.369402Z",
     "start_time": "2024-11-24T11:24:00.358915Z"
    }
   },
   "cell_type": "code",
   "source": [
    "def scrape_nba_champ_count(full_url):\n",
    "    url = full_url\n",
    "    try:\n",
    "        time.sleep(7)  \n",
    "        r = requests.get(url, headers=headers)\n",
    "        r.raise_for_status()  \n",
    "        soup = BeautifulSoup(r.content, \"html.parser\")\n",
    "\n",
    "        # Find the <ul> element with id \"bling\"\n",
    "        bling_ul = soup.find('ul', {'id': 'bling'})\n",
    "\n",
    "        if bling_ul:\n",
    "            nba_champ_count = 0\n",
    "            nba_champ_found = False\n",
    "            for li in bling_ul.find_all('li'):\n",
    "                a_tag = li.find('a')\n",
    "                if a_tag and \"NBA Champ\" in a_tag.text:\n",
    "                    nba_champ_found = True\n",
    "                    nba_champ_text = a_tag.text.strip()\n",
    "                    if 'NBA Champ' in nba_champ_text:\n",
    "                        if 'x' in nba_champ_text:\n",
    "                            count_match = re.search(r'\\d+', nba_champ_text)\n",
    "                            if count_match:\n",
    "                                nba_champ_count += int(count_match.group())\n",
    "                        else:\n",
    "                            nba_champ_count += 1\n",
    "            if nba_champ_found:\n",
    "                return nba_champ_count\n",
    "            else:\n",
    "                return 0  # Return 0 if no NBA Champ found\n",
    "        else:\n",
    "            return 0  # Return 0 if bling section not found\n",
    "    except requests.RequestException as e:\n",
    "        return f\"An error occurred: {e}\"\n",
    "# print(player_links[16])\n",
    "# print(scrape_nba_champ_count(player_links[16]))\n",
    "# print(player_links[63])\n",
    "# print(scrape_nba_champ_count(player_links[63]))\n",
    "# print(player_links[2])\n",
    "# print(scrape_nba_champ_count(player_links[2]))"
   ],
   "id": "ba751b9e1d8db23b",
   "outputs": [],
   "execution_count": 145
  },
  {
   "cell_type": "markdown",
   "id": "c92fbd5873bd5390",
   "metadata": {},
   "source": [
    "All Defensive Teams Count"
   ]
  },
  {
   "cell_type": "code",
   "id": "11e0e22c3c181cb0",
   "metadata": {
    "ExecuteTime": {
     "end_time": "2024-11-24T11:24:00.393007Z",
     "start_time": "2024-11-24T11:24:00.382464Z"
    }
   },
   "source": [
    "def scrape_all_def_team_count(full_url):\n",
    "    url = full_url\n",
    "    try:\n",
    "        time.sleep(7)\n",
    "        r = requests.get(url, headers=headers)\n",
    "        r.raise_for_status()\n",
    "        soup = BeautifulSoup(r.content, \"html.parser\")\n",
    "                # Find the <ul> element with id \"bling\"\n",
    "        bling_ul = soup.find('ul', {'id': 'bling'})\n",
    "\n",
    "        if bling_ul:\n",
    "            all_def_team_count = None\n",
    "            for li in bling_ul.find_all('li'):\n",
    "                a_tag = li.find('a')\n",
    "                if a_tag and \"All-Defensive\" in a_tag.text:\n",
    "                    all_def_team_count = re.search(r'\\d+x', a_tag.text)\n",
    "                    if all_def_team_count:\n",
    "                        return all_def_team_count.group().replace('x', '')\n",
    "\n",
    "            if all_def_team_count is None:\n",
    "                return 0\n",
    "        else:\n",
    "            return \"Bling section not found\"\n",
    "    except requests.RequestException as e:\n",
    "        return f\"An error occurred: {e}\"\n",
    "        \n",
    "# print(scrape_all_def_team_count(player_links[0]))"
   ],
   "outputs": [],
   "execution_count": 147
  },
  {
   "cell_type": "markdown",
   "id": "4df3064498a47e35",
   "metadata": {},
   "source": [
    "Scrape PER Rating (Player Efficiency Rating)"
   ]
  },
  {
   "cell_type": "code",
   "id": "1f0e36cc58ef864d",
   "metadata": {
    "ExecuteTime": {
     "end_time": "2024-11-24T11:24:00.404138Z",
     "start_time": "2024-11-24T11:24:00.393007Z"
    }
   },
   "source": [
    "def scrape_per_count(full_url):\n",
    "    url = full_url\n",
    "    try:\n",
    "        time.sleep(7)  \n",
    "        r = requests.get(url, headers=headers)\n",
    "        r.raise_for_status()  \n",
    "        soup = BeautifulSoup(r.content, \"html.parser\")\n",
    "\n",
    "        p1_div = soup.find(\"div\", {\"class\": \"p3\"})\n",
    "        if p1_div:\n",
    "            ppg_value_element = p1_div.find_all(\"p\")[1] \n",
    "            ppg_value = ppg_value_element.get_text()\n",
    "            return ppg_value.strip()\n",
    "        else:\n",
    "            return \"PER information not found\"\n",
    "    except requests.RequestException as e:\n",
    "        return f\"An error occurred: {e}\"\n",
    "\n",
    "# print(scrape_per_count(player_links[0]))"
   ],
   "outputs": [],
   "execution_count": 148
  },
  {
   "cell_type": "markdown",
   "id": "e0688a1e85940761",
   "metadata": {},
   "source": [
    "Scrape Winshares/48"
   ]
  },
  {
   "cell_type": "code",
   "id": "36a5e9f7d46f245f",
   "metadata": {
    "ExecuteTime": {
     "end_time": "2024-11-24T11:24:00.408377Z",
     "start_time": "2024-11-24T11:24:00.406143Z"
    }
   },
   "source": [],
   "outputs": [],
   "execution_count": 148
  },
  {
   "cell_type": "markdown",
   "id": "1c20d51d96b9525f",
   "metadata": {},
   "source": []
  },
  {
   "cell_type": "code",
   "id": "b9e4d19ccb0a9cbf",
   "metadata": {
    "ExecuteTime": {
     "end_time": "2024-11-24T11:35:53.830740Z",
     "start_time": "2024-11-24T11:24:00.409384Z"
    }
   },
   "source": [
    "def scrape_ppg_list(player_link):\n",
    "    ppg_list = []\n",
    "    for player in player_link:\n",
    "        ppg_list.append(scrape_ppg(player))\n",
    "    return ppg_list\n",
    "ppg_values = scrape_ppg_list(player_links)\n",
    "print(ppg_values)"
   ],
   "outputs": [
    {
     "name": "stdout",
     "output_type": "stream",
     "text": [
      "['24.6', '18.9', '23.5', '22.5', '22.8', '22.1', '24.8', '27.4', '21.8', '24.3', '12.4', '25.0', '24.7', '24.2', '16.1', '20.4', '27.3', '19.0', '17.8', '25.1', '19.2', '20.8', '21.0', '26.7', '27.1', '19.5', '17.7', '30.1', '12.6', '22.5', '20.1', '20.0', '25.1', '17.0', '25.0', '20.3', '24.2', '17.9', '23.1', '18.2', '18.8', '18.2', '19.0', '14.3', '20.7', '21.8', '23.7', '15.5', '17.4', '19.7', '16.1', '18.7', '25.7', '21.1', '15.1', '18.5', '17.8', '13.1', '19.2', '15.0', '10.8', '22.0', '13.3', '27.0', '16.5', '24.8', '17.6', '26.4', '18.7', '22.8', '25.1', '24.1', '20.7', '15.7', '19.5', '28.7', '16.7', '15.5', '9.8', '24.2', '17.1', '21.1', '30.1', '11.3', '23.6', '19.6', '7.0', '15.2', '16.1']\n"
     ]
    }
   ],
   "execution_count": 149
  },
  {
   "cell_type": "code",
   "id": "ce21c34eb64f7709",
   "metadata": {
    "ExecuteTime": {
     "end_time": "2024-11-24T11:48:10.730313Z",
     "start_time": "2024-11-24T11:35:53.830740Z"
    }
   },
   "source": [
    "def scrape_trb_list(player_link):\n",
    "    trb_list = []\n",
    "    for player in player_link:\n",
    "        trb_list.append(scrape_trb(player))\n",
    "    return trb_list\n",
    "trb_values = scrape_trb_list(player_links)\n",
    "print(trb_values)"
   ],
   "outputs": [
    {
     "name": "stdout",
     "output_type": "stream",
     "text": [
      "['11.2', '4.1', '9.8', '6.2', '8.6', '11.7', '6.7', '13.5', '4.1', '10.0', '3.2', '5.2', '4.7', '10.6', '11.0', '6.1', '7.0', '10.8', '10.0', '5.3', '5.0', '6.3', '12.5', '3.7', '7.5', '7.2', '4.9', '6.2', '6.3', '5.8', '10.1', '6.4', '4.2', '15.6', '10.1', '12.3', '4.2', '7.3', '13.4', '3.0', '3.0', '4.1', '9.2', '3.0', '7.5', '11.1', '10.9', '2.7', '4.5', '5.6', '6.4', '12.9', '7.5', '10.6', '22.5', '12.1', '3.9', '2.7', '3.6', '15.0', '14.0', '4.7', '10.5', '5.8', '4.7', '6.7', '5.1', '16.2', '12.9', '8.6', '5.3', '5.6', '9.8', '11.8', '3.5', '8.6', '4.3', '2.7', '10.3', '8.5', '8.5', '10.8', '22.9', '4.9', '4.0', '5.6', '4.8', '2.9', '2.2']\n"
     ]
    }
   ],
   "execution_count": 150
  },
  {
   "cell_type": "code",
   "id": "f57385ae11e6dd56",
   "metadata": {
    "ExecuteTime": {
     "end_time": "2024-11-24T12:00:12.603103Z",
     "start_time": "2024-11-24T11:48:10.731320Z"
    }
   },
   "source": [
    "def scrape_ast_list(player_link):\n",
    "    ast_list = []\n",
    "    for player in player_link:\n",
    "        ast_list.append(scrape_ast(player))\n",
    "    return ast_list\n",
    "ast_values = scrape_ast_list(player_links)\n",
    "print(ast_values)"
   ],
   "outputs": [
    {
     "name": "stdout",
     "output_type": "stream",
     "text": [
      "['3.6', '3.4', '4.9', '2.7', '2.3', '3.9', '4.9', '4.3', '4.3', '6.3', '3.4', '4.7', '6.4', '2.5', '2.9', '5.6', '4.4', '3.0', '3.7', '2.6', '4.0', '4.8', '1.8', '6.2', '7.4', '11.2', '2.5', '5.3', '8.7', '3.3', '3.1', '3.0', '6.7', '3.3', '3.6', '1.3', '5.4', '1.7', '2.8', '3.0', '3.9', '3.5', '1.6', '8.5', '2.4', '2.5', '2.5', '5.6', '9.3', '3.5', '5.2', '1.8', '9.5', '2.5', '4.3', '3.1', '3.0', '10.5', '9.3', '2.7', '3.9', '5.4', '3.4', '6.7', '6.7', '2.5', '3.0', '3.0', '1.8', '2.3', '2.6', '7.1', '4.2', '1.3', '2.3', '8.3', '3.1', '5.6', '1.0', '4.2', '1.1', '7.0', '4.4', '4.2', '5.7', '4.4', '2.1', '5.4', '4.5']\n"
     ]
    }
   ],
   "execution_count": 151
  },
  {
   "cell_type": "code",
   "id": "ddb88de38ace05ac",
   "metadata": {
    "ExecuteTime": {
     "end_time": "2024-11-24T12:12:20.918220Z",
     "start_time": "2024-11-24T12:00:12.604123Z"
    }
   },
   "source": [
    "def scrape_mvp_list(player_link):\n",
    "    mvp_list = []\n",
    "    for player in player_link:\n",
    "        mvp_list.append(scrape_mvp_count(player))\n",
    "    return mvp_list\n",
    "mvp_values = scrape_mvp_list(player_links)\n",
    "print(mvp_values)\n",
    "        "
   ],
   "outputs": [
    {
     "name": "stdout",
     "output_type": "stream",
     "text": [
      "['6', 0, '2', 0, 0, 0, 0, 0, 0, '3', 0, '4', '2', 0, 0, 0, '2', '2', 0, 0, 0, 0, 0, '2', '3', '3', 0, '3', 0, 0, 0, 0, 0, 0, '2', '3', 0, 0, '2', 0, 0, 0, 0, '2', 0, 0, '3', 0, 0, 0, 0, '2', '3', 0, '5', 0, 0, 0, '2', 0, 0, 0, 0, 0, 0, 0, 0, '4', '2', 0, 0, 0, 0, 0, 0, 0, 0, 0, 0, '4', 0, '3', '4', 0, 0, 0, 0, 0, 0]\n"
     ]
    }
   ],
   "execution_count": 152
  },
  {
   "cell_type": "code",
   "id": "1cca3e6143ae66c9",
   "metadata": {
    "ExecuteTime": {
     "end_time": "2024-11-24T12:24:14.378948Z",
     "start_time": "2024-11-24T12:12:20.919226Z"
    }
   },
   "source": [
    "def scrape_anbat(player_link):\n",
    "    anbat_list = []\n",
    "    for player in player_link:\n",
    "        anbat_list.append(scrape_anbat_count(player))\n",
    "    return anbat_list\n",
    "anbat_values = scrape_anbat(player_links)\n",
    "print(anbat_values)      "
   ],
   "outputs": [
    {
     "name": "stdout",
     "output_type": "stream",
     "text": [
      "['15', '2', '8', '6', '4', '11', '6', '10', 0, '10', 0, '15', '10', '5', 0, '5', '11', '15', '9', '7', '7', '11', '6', '7', '20', '10', '3', '11', '6', '4', 0, '6', '7', '5', '14', '8', '4', 0, 0, '3', 0, '4', '5', '7', '12', '12', '14', '4', '11', '4', '7', '5', '11', '10', '11', '12', '7', '11', '5', 0, 0, '8', '2', '12', 0, '7', '2', '11', '5', '4', '7', '7', '5', '8', '2', '5', '2', '4', '3', '7', '2', '6', '10', 0, '3', '7', 0, '3', '3']\n"
     ]
    }
   ],
   "execution_count": 153
  },
  {
   "cell_type": "code",
   "id": "754869f71afa1105",
   "metadata": {
    "ExecuteTime": {
     "end_time": "2024-11-24T12:35:50.664254Z",
     "start_time": "2024-11-24T12:24:14.379953Z"
    }
   },
   "source": [
    "def scrape_all_def_team(player_link):\n",
    "    all_def_team_list = []\n",
    "    for player in player_link:\n",
    "        all_def_team_list.append(scrape_all_def_team_count(player))\n",
    "    return all_def_team_list\n",
    "all_def_team_values = scrape_all_def_team(player_links)\n",
    "print(all_def_team_values)"
   ],
   "outputs": [
    {
     "name": "stdout",
     "output_type": "stream",
     "text": [
      "['11', 0, '5', 0, 0, 0, 0, 0, 0, '3', 0, '12', 0, '5', '6', 0, 0, '15', '12', 0, 0, '8', '2', 0, '6', 0, 0, '9', '9', 0, 0, '7', 0, 0, '4', '2', 0, '6', 0, 0, 0, 0, 0, 0, 0, '9', '3', 0, '9', 0, '10', 0, 0, '8', 0, 0, 0, '5', 0, '5', 0, '3', '2', '5', 0, 0, 0, 0, 0, 0, 0, 0, 0, '5', 0, 0, 0, 0, '6', 0, '2', 0, '2', '2', 0, 0, 0, '2', '5']\n"
     ]
    }
   ],
   "execution_count": 154
  },
  {
   "cell_type": "code",
   "id": "4b243909-664f-41bb-9294-a873a2c3ba70",
   "metadata": {
    "ExecuteTime": {
     "end_time": "2024-11-24T12:47:36.313463Z",
     "start_time": "2024-11-24T12:35:50.665353Z"
    }
   },
   "source": [
    "def scrape_per(player_link):\n",
    "    per_list = []\n",
    "    for player in player_link:\n",
    "        per_list.append(scrape_per_count(player))\n",
    "    return per_list\n",
    "per_values = scrape_per(player_links)\n",
    "print(per_values)"
   ],
   "outputs": [
    {
     "name": "stdout",
     "output_type": "stream",
     "text": [
      "['24.6', '18.6', '25.5', '19.5', '19.8', '24.6', '21.0', '22.7', '18.2', '23.5', '12.2', '22.9', '23.6', '26.9', '15.5', '21.1', '25.0', '24.2', '22.7', '21.4', '15.7', '17.5', '17.7', '20.9', '27.0', '24.1', '18.7', '27.9', '17.9', '19.2', '21.7', '23.4', '22.3', '18.9', '23.9', '22.0', '18.4', '20.0', '27.1', '18.4', '17.2', '18.8', '23.0', '20.0', '22.4', '23.6', '26.4', '18.2', '23.9', '19.7', '18.6', '18.6', '23.2', '26.2', '18.9', '22.1', '18.3', '21.8', '18.1', '16.5', '16.0', '23.5', '20.0', '22.9', '16.8', '21.6', '17.7', '25.4', '18.6', '19.8', '21.4', '23.9', '20.9', '21.3', '15.9', '25.6', '18.6', '18.2', '17.2', '23.6', '21.2', '28.2', '26.2', '15.4', '22.4', '22.1', '13.4', '18.8', '15.3']\n"
     ]
    }
   ],
   "execution_count": 155
  },
  {
   "cell_type": "code",
   "id": "8e22f523-01d5-44d2-af84-f7df82464e5e",
   "metadata": {
    "ExecuteTime": {
     "end_time": "2024-11-24T12:59:14.732568Z",
     "start_time": "2024-11-24T12:47:36.314468Z"
    }
   },
   "source": [
    "def scrape_fmvp(player_link):\n",
    "    fmvp_list = []\n",
    "    for player in player_link:\n",
    "        fmvp_list.append(scrape_fmvp_count(player))\n",
    "    return fmvp_list\n",
    "fmvp_values = scrape_fmvp(player_links)\n",
    "print(fmvp_values)"
   ],
   "outputs": [
    {
     "name": "stdout",
     "output_type": "stream",
     "text": [
      "[2, 0, 1, 0, 0, 0, 1, 0, 0, 2, 0, 2, 1, 0, 0, 0, 2, 3, 0, 0, 0, 1, 0, 0, 4, 3, 0, 6, 0, 0, 0, 2, 0, 0, 0, 1, 0, 0, 0, 0, 0, 0, 0, 0, 1, 2, 3, 1, 0, 1, 0, 2, 0, 0, 0, 0, 0, 0, 1, 0, 1, 1, 1, 1, 0, 0, 1, 0, 2, 0, 0, 0, 0, 0, 0, 0, 0, 1, 0, 0, 0, 1, 1, 1, 0, 0, 0, 1, 1]\n"
     ]
    }
   ],
   "execution_count": 156
  },
  {
   "metadata": {
    "ExecuteTime": {
     "end_time": "2024-11-24T13:11:13.484937Z",
     "start_time": "2024-11-24T12:59:14.733573Z"
    }
   },
   "cell_type": "code",
   "source": [
    "def scrape_champ(player_link):\n",
    "    champ_list = []\n",
    "    for player in player_link:\n",
    "        champ_list.append(scrape_nba_champ_count(player))\n",
    "    return champ_list\n",
    "champ_values = scrape_champ(player_links)\n",
    "print(champ_values)"
   ],
   "id": "6961f90a79bb6b62",
   "outputs": [
    {
     "name": "stdout",
     "output_type": "stream",
     "text": [
      "[6, 2, 1, 0, 1, 0, 1, 0, 0, 3, 2, 5, 4, 1, 2, 1, 2, 5, 1, 0, 1, 8, 1, 0, 4, 5, 10, 6, 1, 0, 0, 2, 0, 1, 0, 1, 0, 3, 5, 0, 1, 0, 0, 0, 1, 2, 4, 4, 0, 1, 6, 2, 1, 2, 11, 1, 4, 0, 2, 0, 1, 3, 2, 1, 0, 0, 3, 1, 2, 1, 0, 0, 0, 1, 4, 0, 0, 4, 0, 1, 1, 1, 2, 4, 1, 0, 7, 1, 2]\n"
     ]
    }
   ],
   "execution_count": 157
  },
  {
   "metadata": {
    "ExecuteTime": {
     "end_time": "2024-11-24T14:07:37.480770Z",
     "start_time": "2024-11-24T14:07:37.460777Z"
    }
   },
   "cell_type": "code",
   "source": [
    "def scrape_ws48(full_url):\n",
    "    url = full_url\n",
    "    headers = {'User-Agent': 'Mozilla/5.0'}\n",
    "    \n",
    "    try:\n",
    "        time.sleep(7)  \n",
    "        r = requests.get(url, headers=headers)\n",
    "        r.raise_for_status()  # Raise an exception for bad HTTP status codes\n",
    "        soup = BeautifulSoup(r.content, \"html.parser\")\n",
    "        \n",
    "        tables = soup.find_all(\"table\")\n",
    "        target_table = None\n",
    "        for table in tables:\n",
    "            headers = [header.get_text() for header in table.find_all(\"th\")]\n",
    "            if \"Player\" in headers and \"WS/48\" in headers:\n",
    "                target_table = table\n",
    "                break\n",
    "        \n",
    "        if target_table:\n",
    "            rows = target_table.find_all(\"tr\")[1:]  # Skip the header row\n",
    "\n",
    "            data = []\n",
    "            for row in rows:\n",
    "                cells = row.find_all([\"th\", \"td\"])\n",
    "                data.append([cell.get_text() for cell in cells])\n",
    "\n",
    "            df = pd.DataFrame(data, columns=headers)\n",
    "            return df\n",
    "        else:\n",
    "            return \"Table not found on the page\"\n",
    "    except requests.RequestException as e:\n",
    "        return f\"An error occurred: {e}\"\n",
    "\n",
    "ws48 = \"https://www.basketball-reference.com/leaders/ws_per_48_career.html\"\n",
    "ws48_df = scrape_ws48(ws48)\n",
    "ws48_df.to_csv(r\"C:\\Users\\Kai\\PycharmProjects\\NBA_Goat_Tracker\\data\\Player WS/48.csv\", index=False)"
   ],
   "id": "fa7d3fb83f88780",
   "outputs": [
    {
     "ename": "SyntaxError",
     "evalue": "(unicode error) 'unicodeescape' codec can't decode bytes in position 2-3: truncated \\UXXXXXXXX escape (2530628294.py, line 36)",
     "output_type": "error",
     "traceback": [
      "\u001B[1;36m  Cell \u001B[1;32mIn[169], line 36\u001B[1;36m\u001B[0m\n\u001B[1;33m    ws48_df.to_csv(\"C:\\Users\\Kai\\PycharmProjects\\NBA_Goat_Tracker\\data\\Player WS/48.csv\")\u001B[0m\n\u001B[1;37m                   ^\u001B[0m\n\u001B[1;31mSyntaxError\u001B[0m\u001B[1;31m:\u001B[0m (unicode error) 'unicodeescape' codec can't decode bytes in position 2-3: truncated \\UXXXXXXXX escape\n"
     ]
    }
   ],
   "execution_count": 169
  },
  {
   "cell_type": "code",
   "id": "cf4147cb973f3003",
   "metadata": {
    "ExecuteTime": {
     "end_time": "2024-11-24T13:11:13.501021Z",
     "start_time": "2024-11-24T13:11:13.485943Z"
    }
   },
   "source": [
    "player_names_series = url_extensions_df['Player Name']\n",
    "ppg_series = pd.DataFrame(ppg_values, columns=['PPG'])\n",
    "ast_series = pd.DataFrame(ast_values, columns=['AST'])\n",
    "mvp_series = pd.DataFrame(mvp_values, columns=['RSMVP'])\n",
    "anbat_series = pd.DataFrame(anbat_values, columns=['All NBA Team Selections'])  \n",
    "f_mvp_series = pd.DataFrame(fmvp_values, columns=['FMVP'])\n",
    "all_def_team_series = pd.DataFrame(all_def_team_values, columns=['All Defensive Teams'])\n",
    "per_series = pd.DataFrame(per_values, columns=['PER'])\n",
    "trb_series = pd.DataFrame(trb_values, columns=['TRB'])\n",
    "champ_series = pd.DataFrame(champ_values, columns=[\"Championships\"])\n",
    "df = pd.concat([player_names_series,ppg_series,trb_series,ast_series, mvp_series, anbat_series,champ_series,f_mvp_series,all_def_team_series,per_series ], axis=1)\n",
    "df"
   ],
   "outputs": [
    {
     "data": {
      "text/plain": [
       "              Player Name   PPG   TRB  AST RSMVP All NBA Team Selections  \\\n",
       "0     Kareem Abdul-Jabbar  24.6  11.2  3.6     6                      15   \n",
       "1               Ray Allen  18.9   4.1  3.4     0                       2   \n",
       "2   Giannis Antetokounmpo  23.5   9.8  4.9     2                       8   \n",
       "3         Carmelo Anthony  22.5   6.2  2.7     0                       6   \n",
       "4             Paul Arizin  22.8   8.6  2.3     0                       4   \n",
       "..                    ...   ...   ...  ...   ...                     ...   \n",
       "84           Kyrie Irving  23.6   4.0  5.7     0                       3   \n",
       "85          Tracy McGrady  19.6   5.6  4.4     0                       7   \n",
       "86           Robert Horry   7.0   4.8  2.1     0                       0   \n",
       "87        Chauncy Billups  15.2   2.9  5.4     0                       3   \n",
       "88             Joe Dumars  16.1   2.2  4.5     0                       3   \n",
       "\n",
       "    Championships  FMVP All Defensive Teams   PER  \n",
       "0               6     2                  11  24.6  \n",
       "1               2     0                   0  18.6  \n",
       "2               1     1                   5  25.5  \n",
       "3               0     0                   0  19.5  \n",
       "4               1     0                   0  19.8  \n",
       "..            ...   ...                 ...   ...  \n",
       "84              1     0                   0  22.4  \n",
       "85              0     0                   0  22.1  \n",
       "86              7     0                   0  13.4  \n",
       "87              1     1                   2  18.8  \n",
       "88              2     1                   5  15.3  \n",
       "\n",
       "[89 rows x 10 columns]"
      ],
      "text/html": [
       "<div>\n",
       "<style scoped>\n",
       "    .dataframe tbody tr th:only-of-type {\n",
       "        vertical-align: middle;\n",
       "    }\n",
       "\n",
       "    .dataframe tbody tr th {\n",
       "        vertical-align: top;\n",
       "    }\n",
       "\n",
       "    .dataframe thead th {\n",
       "        text-align: right;\n",
       "    }\n",
       "</style>\n",
       "<table border=\"1\" class=\"dataframe\">\n",
       "  <thead>\n",
       "    <tr style=\"text-align: right;\">\n",
       "      <th></th>\n",
       "      <th>Player Name</th>\n",
       "      <th>PPG</th>\n",
       "      <th>TRB</th>\n",
       "      <th>AST</th>\n",
       "      <th>RSMVP</th>\n",
       "      <th>All NBA Team Selections</th>\n",
       "      <th>Championships</th>\n",
       "      <th>FMVP</th>\n",
       "      <th>All Defensive Teams</th>\n",
       "      <th>PER</th>\n",
       "    </tr>\n",
       "  </thead>\n",
       "  <tbody>\n",
       "    <tr>\n",
       "      <th>0</th>\n",
       "      <td>Kareem Abdul-Jabbar</td>\n",
       "      <td>24.6</td>\n",
       "      <td>11.2</td>\n",
       "      <td>3.6</td>\n",
       "      <td>6</td>\n",
       "      <td>15</td>\n",
       "      <td>6</td>\n",
       "      <td>2</td>\n",
       "      <td>11</td>\n",
       "      <td>24.6</td>\n",
       "    </tr>\n",
       "    <tr>\n",
       "      <th>1</th>\n",
       "      <td>Ray Allen</td>\n",
       "      <td>18.9</td>\n",
       "      <td>4.1</td>\n",
       "      <td>3.4</td>\n",
       "      <td>0</td>\n",
       "      <td>2</td>\n",
       "      <td>2</td>\n",
       "      <td>0</td>\n",
       "      <td>0</td>\n",
       "      <td>18.6</td>\n",
       "    </tr>\n",
       "    <tr>\n",
       "      <th>2</th>\n",
       "      <td>Giannis Antetokounmpo</td>\n",
       "      <td>23.5</td>\n",
       "      <td>9.8</td>\n",
       "      <td>4.9</td>\n",
       "      <td>2</td>\n",
       "      <td>8</td>\n",
       "      <td>1</td>\n",
       "      <td>1</td>\n",
       "      <td>5</td>\n",
       "      <td>25.5</td>\n",
       "    </tr>\n",
       "    <tr>\n",
       "      <th>3</th>\n",
       "      <td>Carmelo Anthony</td>\n",
       "      <td>22.5</td>\n",
       "      <td>6.2</td>\n",
       "      <td>2.7</td>\n",
       "      <td>0</td>\n",
       "      <td>6</td>\n",
       "      <td>0</td>\n",
       "      <td>0</td>\n",
       "      <td>0</td>\n",
       "      <td>19.5</td>\n",
       "    </tr>\n",
       "    <tr>\n",
       "      <th>4</th>\n",
       "      <td>Paul Arizin</td>\n",
       "      <td>22.8</td>\n",
       "      <td>8.6</td>\n",
       "      <td>2.3</td>\n",
       "      <td>0</td>\n",
       "      <td>4</td>\n",
       "      <td>1</td>\n",
       "      <td>0</td>\n",
       "      <td>0</td>\n",
       "      <td>19.8</td>\n",
       "    </tr>\n",
       "    <tr>\n",
       "      <th>...</th>\n",
       "      <td>...</td>\n",
       "      <td>...</td>\n",
       "      <td>...</td>\n",
       "      <td>...</td>\n",
       "      <td>...</td>\n",
       "      <td>...</td>\n",
       "      <td>...</td>\n",
       "      <td>...</td>\n",
       "      <td>...</td>\n",
       "      <td>...</td>\n",
       "    </tr>\n",
       "    <tr>\n",
       "      <th>84</th>\n",
       "      <td>Kyrie Irving</td>\n",
       "      <td>23.6</td>\n",
       "      <td>4.0</td>\n",
       "      <td>5.7</td>\n",
       "      <td>0</td>\n",
       "      <td>3</td>\n",
       "      <td>1</td>\n",
       "      <td>0</td>\n",
       "      <td>0</td>\n",
       "      <td>22.4</td>\n",
       "    </tr>\n",
       "    <tr>\n",
       "      <th>85</th>\n",
       "      <td>Tracy McGrady</td>\n",
       "      <td>19.6</td>\n",
       "      <td>5.6</td>\n",
       "      <td>4.4</td>\n",
       "      <td>0</td>\n",
       "      <td>7</td>\n",
       "      <td>0</td>\n",
       "      <td>0</td>\n",
       "      <td>0</td>\n",
       "      <td>22.1</td>\n",
       "    </tr>\n",
       "    <tr>\n",
       "      <th>86</th>\n",
       "      <td>Robert Horry</td>\n",
       "      <td>7.0</td>\n",
       "      <td>4.8</td>\n",
       "      <td>2.1</td>\n",
       "      <td>0</td>\n",
       "      <td>0</td>\n",
       "      <td>7</td>\n",
       "      <td>0</td>\n",
       "      <td>0</td>\n",
       "      <td>13.4</td>\n",
       "    </tr>\n",
       "    <tr>\n",
       "      <th>87</th>\n",
       "      <td>Chauncy Billups</td>\n",
       "      <td>15.2</td>\n",
       "      <td>2.9</td>\n",
       "      <td>5.4</td>\n",
       "      <td>0</td>\n",
       "      <td>3</td>\n",
       "      <td>1</td>\n",
       "      <td>1</td>\n",
       "      <td>2</td>\n",
       "      <td>18.8</td>\n",
       "    </tr>\n",
       "    <tr>\n",
       "      <th>88</th>\n",
       "      <td>Joe Dumars</td>\n",
       "      <td>16.1</td>\n",
       "      <td>2.2</td>\n",
       "      <td>4.5</td>\n",
       "      <td>0</td>\n",
       "      <td>3</td>\n",
       "      <td>2</td>\n",
       "      <td>1</td>\n",
       "      <td>5</td>\n",
       "      <td>15.3</td>\n",
       "    </tr>\n",
       "  </tbody>\n",
       "</table>\n",
       "<p>89 rows × 10 columns</p>\n",
       "</div>"
      ]
     },
     "execution_count": 158,
     "metadata": {},
     "output_type": "execute_result"
    }
   ],
   "execution_count": 158
  },
  {
   "metadata": {},
   "cell_type": "markdown",
   "source": "Lets now save the df to a CSV File",
   "id": "dc06b7329cf581ae"
  },
  {
   "metadata": {},
   "cell_type": "code",
   "source": "df.to_csv('data/NBA_Goat_Tracker_Data.csv')",
   "id": "5235016b21382094",
   "outputs": [],
   "execution_count": null
  }
 ],
 "metadata": {
  "kernelspec": {
   "display_name": "Python 3 (ipykernel)",
   "language": "python",
   "name": "python3"
  },
  "language_info": {
   "codemirror_mode": {
    "name": "ipython",
    "version": 3
   },
   "file_extension": ".py",
   "mimetype": "text/x-python",
   "name": "python",
   "nbconvert_exporter": "python",
   "pygments_lexer": "ipython3",
   "version": "3.12.4"
  }
 },
 "nbformat": 4,
 "nbformat_minor": 5
}
