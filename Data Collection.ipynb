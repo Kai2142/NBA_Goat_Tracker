{
 "cells": [
  {
   "metadata": {},
   "cell_type": "markdown",
   "source": "Import Libraries\n",
   "id": "8ebc9b4639950ad9"
  },
  {
   "cell_type": "code",
   "id": "initial_id",
   "metadata": {
    "collapsed": true,
    "ExecuteTime": {
     "end_time": "2024-11-22T13:17:14.150796Z",
     "start_time": "2024-11-22T13:17:14.147387Z"
    }
   },
   "source": [
    "import pandas as pd\n",
    "from bs4 import BeautifulSoup\n",
    "import requests \n",
    "import time"
   ],
   "outputs": [],
   "execution_count": 70
  },
  {
   "metadata": {
    "ExecuteTime": {
     "end_time": "2024-11-22T13:17:14.156409Z",
     "start_time": "2024-11-22T13:17:14.152323Z"
    }
   },
   "cell_type": "code",
   "source": [
    "# Read player_extensions csv\n",
    "url_extensions_df = pd.read_csv(\"data/player_extensions.csv\")\n",
    "# Convert Extension Column to list\n",
    "url_extensions = url_extensions_df[\"Player Extension\"].tolist()"
   ],
   "id": "e89b15db8fd4ec3",
   "outputs": [],
   "execution_count": 71
  },
  {
   "metadata": {
    "ExecuteTime": {
     "end_time": "2024-11-22T13:17:14.159333Z",
     "start_time": "2024-11-22T13:17:14.157079Z"
    }
   },
   "cell_type": "code",
   "source": [
    "# Create List with player links\n",
    "player_links = []\n",
    "def concat_urls(url_extension):\n",
    "    for ext in url_extension:\n",
    "        base_url = \"https://www.basketball-reference.com/\"\n",
    "        player_url = ext\n",
    "        full_url = base_url + player_url\n",
    "        player_links.append(full_url)\n",
    "concat_urls(url_extensions)"
   ],
   "id": "a267e473a8dcc670",
   "outputs": [],
   "execution_count": 72
  },
  {
   "metadata": {
    "ExecuteTime": {
     "end_time": "2024-11-22T13:17:14.162441Z",
     "start_time": "2024-11-22T13:17:14.160754Z"
    }
   },
   "cell_type": "code",
   "source": "print(player_links[0])",
   "id": "b58dec5355667e25",
   "outputs": [
    {
     "name": "stdout",
     "output_type": "stream",
     "text": [
      "https://www.basketball-reference.com//players/a/abdulka01.html\n"
     ]
    }
   ],
   "execution_count": 73
  },
  {
   "metadata": {},
   "cell_type": "markdown",
   "source": "Make Function to scrape Points and Put in DF",
   "id": "c90fa24507259865"
  },
  {
   "metadata": {
    "ExecuteTime": {
     "end_time": "2024-11-22T13:17:14.165410Z",
     "start_time": "2024-11-22T13:17:14.163079Z"
    }
   },
   "cell_type": "code",
   "source": [
    "def scrape_ppg(full_url):\n",
    "    url = full_url\n",
    "    headers = {\"User-Agent\": \"Mozilla/5.0\"}\n",
    "    \n",
    "    try:\n",
    "        time.sleep(7)  # Add a 1-second delay between requests\n",
    "        r = requests.get(url, headers=headers)\n",
    "        r.raise_for_status()  # Raise an exception for bad HTTP status codes\n",
    "        soup = BeautifulSoup(r.content, \"html.parser\")\n",
    "\n",
    "        p1_div = soup.find(\"div\", {\"class\": \"p1\"})\n",
    "        if p1_div:\n",
    "            ppg_value_element = p1_div.find_all(\"p\")[3] \n",
    "            ppg_value = ppg_value_element.get_text()\n",
    "            return ppg_value.strip()\n",
    "        else:\n",
    "            return \"PPG information not found\"\n",
    "    except requests.RequestException as e:\n",
    "        return f\"An error occurred: {e}\"\n",
    "\n",
    "# print(scrape(player_links[0]))"
   ],
   "id": "6cf650733f5e963f",
   "outputs": [],
   "execution_count": 74
  },
  {
   "metadata": {},
   "cell_type": "markdown",
   "source": "Initialize New Dataframe\n",
   "id": "1c20d51d96b9525f"
  },
  {
   "metadata": {
    "ExecuteTime": {
     "end_time": "2024-11-22T13:39:54.868701Z",
     "start_time": "2024-11-22T13:17:14.166067Z"
    }
   },
   "cell_type": "code",
   "source": [
    "def scrape_ppg_list(player_link):\n",
    "    ppg_list = []\n",
    "    for player in player_link:\n",
    "        ppg_list.append(scrape_ppg(player))\n",
    "    return ppg_list\n",
    "ppg_values = scrape_ppg_list(player_links)\n",
    "\n",
    "print(ppg_values)"
   ],
   "id": "b9e4d19ccb0a9cbf",
   "outputs": [
    {
     "name": "stdout",
     "output_type": "stream",
     "text": [
      "['24.6', '18.9', '23.5', '22.5', 'An error occurred: 524 Server Error:  for url: https://www.basketball-reference.com//players/a/arizipa01.html', '22.1', '24.8', 'An error occurred: 504 Server Error: Gateway Timeout for url: https://www.basketball-reference.com//players/b/bayloel01.html', '21.8', '24.3', '12.4', '25.0', '24.7', '24.2', '16.1', '20.4', '27.3', '19.0', '17.8', '25.1', 'An error occurred: 524 Server Error:  for url: https://www.basketball-reference.com//players/g/greerha01.html', 'An error occurred: 524 Server Error:  for url: https://www.basketball-reference.com//players/h/havlijo01.html', 'An error occurred: 504 Server Error: Gateway Timeout for url: https://www.basketball-reference.com//players/h/hayesel01.html', '26.7', '27.1', '19.5', 'An error occurred: 504 Server Error: Gateway Timeout for url: https://www.basketball-reference.com//players/j/jonessa01.html', '30.1', '12.6', '22.5', '20.1', '20.0', '25.1', 'An error occurred: 504 Server Error: Gateway Timeout for url: https://www.basketball-reference.com//players/l/lucasje01.html', '25.0', '20.3', '24.2', '17.9', '23.1', '18.2', '18.8', '18.2', '19.0', '14.3', '20.7', '21.8', '23.7', '15.5', '17.4', '19.7', '16.1', '18.7', '25.7', '21.1', '15.1', '18.5', '17.8', '13.1', '19.2', '15.0', '10.8', '22.0', '13.3', '27.0', '16.5', '24.8', '17.6', '26.4', '18.7', '22.8', '25.1', '24.1', '20.7', '15.7', '19.5', '28.7', '16.7', '15.5', '9.8', '24.2', '17.1']\n"
     ]
    }
   ],
   "execution_count": 75
  }
 ],
 "metadata": {
  "kernelspec": {
   "display_name": "Python 3",
   "language": "python",
   "name": "python3"
  },
  "language_info": {
   "codemirror_mode": {
    "name": "ipython",
    "version": 2
   },
   "file_extension": ".py",
   "mimetype": "text/x-python",
   "name": "python",
   "nbconvert_exporter": "python",
   "pygments_lexer": "ipython2",
   "version": "2.7.6"
  }
 },
 "nbformat": 4,
 "nbformat_minor": 5
}
