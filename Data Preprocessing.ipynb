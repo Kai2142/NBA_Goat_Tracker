{
 "cells": [
  {
   "cell_type": "code",
   "id": "initial_id",
   "metadata": {
    "collapsed": true,
    "ExecuteTime": {
     "end_time": "2024-11-27T11:32:42.690319Z",
     "start_time": "2024-11-27T11:32:42.687287Z"
    }
   },
   "source": "import pandas as pd",
   "outputs": [],
   "execution_count": 6
  },
  {
   "metadata": {},
   "cell_type": "markdown",
   "source": "Load Tables",
   "id": "dc03ba4d31cc716"
  },
  {
   "metadata": {
    "ExecuteTime": {
     "end_time": "2024-11-27T11:33:10.533699Z",
     "start_time": "2024-11-27T11:33:10.526828Z"
    }
   },
   "cell_type": "code",
   "source": "nba_data = pd.read_csv('NBA_Goat_Tracker_Data.csv')",
   "id": "d2120ead723ec365",
   "outputs": [],
   "execution_count": 8
  },
  {
   "metadata": {
    "ExecuteTime": {
     "end_time": "2024-11-27T11:33:27.182137Z",
     "start_time": "2024-11-27T11:33:27.175675Z"
    }
   },
   "cell_type": "code",
   "source": "nba_data.head()",
   "id": "b02022ad0b6a560f",
   "outputs": [
    {
     "data": {
      "text/plain": [
       "   Unnamed: 0            Player Name   PPG   TRB  AST  RSMVP  \\\n",
       "0           0    Kareem Abdul-Jabbar  24.6  11.2  3.6      6   \n",
       "1           1              Ray Allen  18.9   4.1  3.4      0   \n",
       "2           2  Giannis Antetokounmpo  23.5   9.8  4.9      2   \n",
       "3           3        Carmelo Anthony  22.5   6.2  2.7      0   \n",
       "4           4            Paul Arizin  22.8   8.6  2.3      0   \n",
       "\n",
       "   All NBA Team Selections  Championships  FMVP  All Defensive Teams   PER  \n",
       "0                       15              6     2                   11  24.6  \n",
       "1                        2              2     0                    0  18.6  \n",
       "2                        8              1     1                    5  25.5  \n",
       "3                        6              0     0                    0  19.5  \n",
       "4                        4              1     0                    0  19.8  "
      ],
      "text/html": [
       "<div>\n",
       "<style scoped>\n",
       "    .dataframe tbody tr th:only-of-type {\n",
       "        vertical-align: middle;\n",
       "    }\n",
       "\n",
       "    .dataframe tbody tr th {\n",
       "        vertical-align: top;\n",
       "    }\n",
       "\n",
       "    .dataframe thead th {\n",
       "        text-align: right;\n",
       "    }\n",
       "</style>\n",
       "<table border=\"1\" class=\"dataframe\">\n",
       "  <thead>\n",
       "    <tr style=\"text-align: right;\">\n",
       "      <th></th>\n",
       "      <th>Unnamed: 0</th>\n",
       "      <th>Player Name</th>\n",
       "      <th>PPG</th>\n",
       "      <th>TRB</th>\n",
       "      <th>AST</th>\n",
       "      <th>RSMVP</th>\n",
       "      <th>All NBA Team Selections</th>\n",
       "      <th>Championships</th>\n",
       "      <th>FMVP</th>\n",
       "      <th>All Defensive Teams</th>\n",
       "      <th>PER</th>\n",
       "    </tr>\n",
       "  </thead>\n",
       "  <tbody>\n",
       "    <tr>\n",
       "      <th>0</th>\n",
       "      <td>0</td>\n",
       "      <td>Kareem Abdul-Jabbar</td>\n",
       "      <td>24.6</td>\n",
       "      <td>11.2</td>\n",
       "      <td>3.6</td>\n",
       "      <td>6</td>\n",
       "      <td>15</td>\n",
       "      <td>6</td>\n",
       "      <td>2</td>\n",
       "      <td>11</td>\n",
       "      <td>24.6</td>\n",
       "    </tr>\n",
       "    <tr>\n",
       "      <th>1</th>\n",
       "      <td>1</td>\n",
       "      <td>Ray Allen</td>\n",
       "      <td>18.9</td>\n",
       "      <td>4.1</td>\n",
       "      <td>3.4</td>\n",
       "      <td>0</td>\n",
       "      <td>2</td>\n",
       "      <td>2</td>\n",
       "      <td>0</td>\n",
       "      <td>0</td>\n",
       "      <td>18.6</td>\n",
       "    </tr>\n",
       "    <tr>\n",
       "      <th>2</th>\n",
       "      <td>2</td>\n",
       "      <td>Giannis Antetokounmpo</td>\n",
       "      <td>23.5</td>\n",
       "      <td>9.8</td>\n",
       "      <td>4.9</td>\n",
       "      <td>2</td>\n",
       "      <td>8</td>\n",
       "      <td>1</td>\n",
       "      <td>1</td>\n",
       "      <td>5</td>\n",
       "      <td>25.5</td>\n",
       "    </tr>\n",
       "    <tr>\n",
       "      <th>3</th>\n",
       "      <td>3</td>\n",
       "      <td>Carmelo Anthony</td>\n",
       "      <td>22.5</td>\n",
       "      <td>6.2</td>\n",
       "      <td>2.7</td>\n",
       "      <td>0</td>\n",
       "      <td>6</td>\n",
       "      <td>0</td>\n",
       "      <td>0</td>\n",
       "      <td>0</td>\n",
       "      <td>19.5</td>\n",
       "    </tr>\n",
       "    <tr>\n",
       "      <th>4</th>\n",
       "      <td>4</td>\n",
       "      <td>Paul Arizin</td>\n",
       "      <td>22.8</td>\n",
       "      <td>8.6</td>\n",
       "      <td>2.3</td>\n",
       "      <td>0</td>\n",
       "      <td>4</td>\n",
       "      <td>1</td>\n",
       "      <td>0</td>\n",
       "      <td>0</td>\n",
       "      <td>19.8</td>\n",
       "    </tr>\n",
       "  </tbody>\n",
       "</table>\n",
       "</div>"
      ]
     },
     "execution_count": 10,
     "metadata": {},
     "output_type": "execute_result"
    }
   ],
   "execution_count": 10
  }
 ],
 "metadata": {
  "kernelspec": {
   "display_name": "Python 3",
   "language": "python",
   "name": "python3"
  },
  "language_info": {
   "codemirror_mode": {
    "name": "ipython",
    "version": 2
   },
   "file_extension": ".py",
   "mimetype": "text/x-python",
   "name": "python",
   "nbconvert_exporter": "python",
   "pygments_lexer": "ipython2",
   "version": "2.7.6"
  }
 },
 "nbformat": 4,
 "nbformat_minor": 5
}
